{
 "cells": [
  {
   "cell_type": "code",
   "execution_count": 249,
   "id": "825d5664",
   "metadata": {},
   "outputs": [],
   "source": [
    "import pandas as pd\n",
    "import numpy as np\n",
    "import matplotlib.pyplot as plt\n",
    "from numpy.random import rand,randint\n",
    "from math import exp\n",
    "from timeit import default_timer as timer"
   ]
  },
  {
   "cell_type": "code",
   "execution_count": 266,
   "id": "fac92381",
   "metadata": {},
   "outputs": [],
   "source": [
    "class SA():\n",
    "    def __init__(self,length,reqs,TI,TL,f,minIter,maxEqCIter):\n",
    "        self.length=length\n",
    "        self.reqs=reqs\n",
    "        self.minIter=minIter\n",
    "        self.maxEqCIter=maxEqCIter\n",
    "        self.n=len(self.reqs)\n",
    "        self.TI=TI\n",
    "        self.TL=TL\n",
    "        self.f=f\n",
    "    def ShuffleRequests(self):\n",
    "        np.random.shuffle(self.reqs)\n",
    "    def GetTwoNumber(self):\n",
    "        x,y=np.random.choice(self.n,2,replace=False)\n",
    "        if x>y:\n",
    "            return y,x\n",
    "        return x,y\n",
    "    def GoNeighbor(self,a):\n",
    "        x,y=self.GetTwoNumber()\n",
    "        b=a.copy()\n",
    "        b[x],b[y]=a[y],a[x]\n",
    "        return b\n",
    "    def GetNumberStocks(self,a):\n",
    "        t=0\n",
    "        r=1\n",
    "        for d in a:\n",
    "            if d+t>self.length:\n",
    "                r+=1\n",
    "                t=0\n",
    "            t+=d\n",
    "        return r\n",
    "    def RunOneT(self,T,cur,cCur):\n",
    "        nex=self.GoNeighbor(cur)\n",
    "        cNex=self.GetNumberStocks(nex)\n",
    "        deltaC=cNex-cCur\n",
    "        if deltaC<0:\n",
    "            cur=nex\n",
    "            cCur=cNex\n",
    "        elif deltaC>0:\n",
    "            q=rand(1)\n",
    "            if q<exp(-deltaC/T):\n",
    "                cur=nex\n",
    "                cCur=cNex\n",
    "        return cur,cCur\n",
    "    def PrintBest(self):\n",
    "        t=0\n",
    "        l=0\n",
    "        for i,d in enumerate(self.best):\n",
    "            if d+t>self.length:\n",
    "                print(self.best[l:i])\n",
    "                l=i\n",
    "                t=0\n",
    "            t+=d\n",
    "        print(self.best[l:])\n",
    "    def run(self):\n",
    "        start=timer()\n",
    "        self.ShuffleRequests()\n",
    "        self.best=self.reqs\n",
    "        self.cBest=self.GetNumberStocks(self.best)\n",
    "        cur=self.reqs\n",
    "        cCur=self.cBest\n",
    "        T=self.TI\n",
    "        ite=0\n",
    "        eqI=0\n",
    "        cCurs=np.array([cCur],dtype=np.int64)\n",
    "        cBests=np.array([cCur],dtype=np.int64)\n",
    "        while(self.cBest>1 and T>0):\n",
    "            for i in range(self.TL):\n",
    "                eqt=0\n",
    "                lastC=cCur\n",
    "                cur,cCur=self.RunOneT(T,cur,cCur)\n",
    "                if cCur!=lastC and eqt!=0:\n",
    "                    eqt=0\n",
    "                if eqt>=self.maxEqCT:\n",
    "                    \n",
    "                eqt+=1\n",
    "                cCurs=np.append(cCurs,[cCur])\n",
    "                if cCur<self.cBest:\n",
    "                    self.best=cur\n",
    "                    eqI=0\n",
    "                    self.cBest=cCur\n",
    "                cBests=np.append(cBests,[self.cBest])\n",
    "            ite+=1\n",
    "            if ite>=self.minIter and eqI>=self.maxEqCIter:\n",
    "                break\n",
    "            eqI+=1\n",
    "            T=self.f(T)\n",
    "        plt.plot(cCurs,'r')\n",
    "        plt.plot(cBests,'b')\n",
    "        self.PrintBest()\n",
    "        print(\"Count Stock: \",self.cBest)\n",
    "        print(\"time: \",timer()-start)"
   ]
  },
  {
   "cell_type": "code",
   "execution_count": 147,
   "id": "ac685d51",
   "metadata": {},
   "outputs": [],
   "source": [
    "length1=30\n",
    "reqs1=np.array([13, 16, 24, 16, 11, 14],dtype=np.int64)"
   ]
  },
  {
   "cell_type": "code",
   "execution_count": 270,
   "id": "c2ed8126",
   "metadata": {},
   "outputs": [
    {
     "name": "stdout",
     "output_type": "stream",
     "text": [
      "[14 16]\n",
      "[24]\n",
      "[11 13]\n",
      "[16]\n",
      "Count Stock:  4\n",
      "time:  0.010653092000211473\n"
     ]
    },
    {
     "data": {
      "image/png": "[encoded data removed]",
      "text/plain": [
       "<Figure size 432x288 with 1 Axes>"
      ]
     },
     "metadata": {
      "needs_background": "light"
     },
     "output_type": "display_data"
    }
   ],
   "source": [
    "sa1=SA(length=length1,reqs=reqs1,TI=1,TL=1,f=lambda x: 0.99*x,minIter=2,maxEqCIter=1)\n",
    "sa1.run()"
   ]
  },
  {
   "cell_type": "code",
   "execution_count": 271,
   "id": "0ace2e05",
   "metadata": {},
   "outputs": [
    {
     "name": "stdout",
     "output_type": "stream",
     "text": [
      "[24 42 30]\n",
      "[36 48]\n",
      "[30 19 42]\n",
      "[36 36 27]\n",
      "Count Stock:  4\n",
      "time:  0.01280711299932591\n"
     ]
    },
    {
     "data": {
      "image/png": "[encoded data removed]",
      "text/plain": [
       "<Figure size 432x288 with 1 Axes>"
      ]
     },
     "metadata": {
      "needs_background": "light"
     },
     "output_type": "display_data"
    }
   ],
   "source": [
    "length2=100\n",
    "reqs2=np.array([48, 30, 19, 36, 36, 27, 42, 42, 36, 24, 30],dtype=np.int64)\n",
    "#np.random.seed(100)\n",
    "sa2=SA(length=length2,reqs=reqs2,TI=15,TL=8,f=lambda x:0.8*x,minIter=10,maxEqCIter=3)\n",
    "sa2.run()"
   ]
  },
  {
   "cell_type": "code",
   "execution_count": 272,
   "id": "21bc4804",
   "metadata": {},
   "outputs": [
    {
     "name": "stdout",
     "output_type": "stream",
     "text": [
      "[34 16 34 12]\n",
      "[49 33]\n",
      "[23 43]\n",
      "[40 51]\n",
      "[44 55]\n",
      "Count Stock:  5\n",
      "time:  0.01154051100002107\n"
     ]
    },
    {
     "data": {
      "image/png": "[encoded data removed]",
      "text/plain": [
       "<Figure size 432x288 with 1 Axes>"
      ]
     },
     "metadata": {
      "needs_background": "light"
     },
     "output_type": "display_data"
    }
   ],
   "source": [
    "length3=100\n",
    "reqs3=np.array([16, 34, 49, 12, 43, 44, 34, 23, 33, 40, 55, 51],dtype=np.int64)\n",
    "sa3=SA(length=length3,reqs=reqs3,TI=10,TL=2,f=lambda x:0.8*x,minIter=5,maxEqCIter=3)\n",
    "sa3.run()"
   ]
  },
  {
   "cell_type": "markdown",
   "id": "0a1f299a",
   "metadata": {},
   "source": []
  },
  {
   "cell_type": "code",
   "execution_count": 273,
   "id": "a6baf87f",
   "metadata": {},
   "outputs": [
    {
     "name": "stdout",
     "output_type": "stream",
     "text": [
      "[495 409]\n",
      "[402 506]\n",
      "[518]\n",
      "[544 278]\n",
      "[678 286]\n",
      "[689  71]\n",
      "[414 123 441]\n",
      "[609 149]\n",
      "[686 211]\n",
      "[218]\n",
      "[914  33]\n",
      "[241 648]\n",
      "[753  70]\n",
      "[424 517]\n",
      "[967]\n",
      "[463 171]\n",
      "[412 557]\n",
      "[ 69 788 115]\n",
      "[653]\n",
      "[405  43 501]\n",
      "[618 170 125]\n",
      "[632 246]\n",
      "[933]\n",
      "[ 79 109 286  88]\n",
      "[627 248  88]\n",
      "[753 135]\n",
      "[284 186  78  92 306]\n",
      "[149 116  45]\n",
      "[988]\n",
      "[126 868]\n",
      "[557 354  46]\n",
      "[268  61 460]\n",
      "[312 148 507]\n",
      "[788  53  60]\n",
      "[264 525]\n",
      "[232 365]\n",
      "[660 106  99]\n",
      "[346 457]\n",
      "[716 180]\n",
      "[592 368]\n",
      "[251 106 283 315]\n",
      "[266 515]\n",
      "[557]\n",
      "[555  86]\n",
      "[437 312 145]\n",
      "[125  23 351 119 224]\n",
      "[549  84 144]\n",
      "[333 356 266]\n",
      "[532 337]\n",
      "[672  80]\n",
      "[249 370 118  18 230]\n",
      "[107 292]\n",
      "[805]\n",
      "[581 371]\n",
      "[187 181 280 149 106]\n",
      "[987]\n",
      "[106  92 295 117 301  75]\n",
      "[662]\n",
      "Count Stock:  58\n",
      "time:  0.05406076300005225\n"
     ]
    },
    {
     "data": {
      "image/png": "[encoded data removed]",
      "text/plain": [
       "<Figure size 432x288 with 1 Axes>"
      ]
     },
     "metadata": {
      "needs_background": "light"
     },
     "output_type": "display_data"
    }
   ],
   "source": [
    "length4=1000\n",
    "reqs4=np.array([106, 187, 914, 106, 33, 18, 402, 230, 507, 495, 609, 627, 346, 295, 312, 107, 716, 88, 106, 248, 689, 115, 106, 218, 672, 618, 117, 805, 306, 753, 414, 84, 557, 266, 409, 144, 69, 116, 333, 88, 264, 967, 180, 251, 71, 788, 581, 555, 988, 292, 60, 125, 532, 405, 170, 249, 181, 686, 283, 424, 933, 23, 99, 135, 246, 337, 648, 753, 354, 518, 45, 286, 315, 370, 557, 463, 312, 284, 61, 412, 457, 118, 268, 123, 232, 788, 678, 371, 171, 557, 549, 286, 356, 92, 148, 515, 301, 632, 987, 660, 868, 92, 544, 211, 70, 75, 145, 125, 278, 441, 368, 351, 119, 662, 653, 186, 517, 43, 224, 506, 592, 501, 149, 79, 241, 53, 80, 437, 46, 78, 149, 525, 149, 126, 365, 460, 280, 266, 109, 86],dtype=np.int64)\n",
    "np.random.seed(200)\n",
    "sa4=SA(length=length4,reqs=reqs4,TI=20,TL=30,f=lambda x:0.84*x,minIter=20,maxEqCIter=3)\n",
    "sa4.run()"
   ]
  },
  {
   "cell_type": "code",
   "execution_count": 274,
   "id": "04596831",
   "metadata": {},
   "outputs": [
    {
     "name": "stdout",
     "output_type": "stream",
     "text": [
      "[125 632]\n",
      "[370 337]\n",
      "[933]\n",
      "[441 414]\n",
      "[211 126 662]\n",
      "[987]\n",
      "[409 135 354  45]\n",
      "[ 88 678  18]\n",
      "[967]\n",
      "[405 268]\n",
      "[672  46  53]\n",
      "[412 557]\n",
      "[ 70 507 181]\n",
      "[988]\n",
      "[186 107 557]\n",
      "[753]\n",
      "[356 495]\n",
      "[686 312]\n",
      "[506 106 144]\n",
      "[544 149]\n",
      "[365 627]\n",
      "[549 284 125]\n",
      "[116 292 515]\n",
      "[171 145 618]\n",
      "[402 109 460  23]\n",
      "[115  43 106 463 118  88]\n",
      "[ 79 788 123]\n",
      "[106  71 224 517]\n",
      "[246 555  80]\n",
      "[241  69  61 180 119  84]\n",
      "[251 424 315]\n",
      "[457]\n",
      "[868  75]\n",
      "[280  60 368 278]\n",
      "[518 306 106]\n",
      "[148 232  33 437 117]\n",
      "[581 286]\n",
      "[266 609]\n",
      "[660 264]\n",
      "[286 266  86 230]\n",
      "[218 653]\n",
      "[501 351]\n",
      "[914]\n",
      "[805  92]\n",
      "[532 346]\n",
      "[295  92 592]\n",
      "[312 525]\n",
      "[788]\n",
      "[557 170 248]\n",
      "[149 301 371]\n",
      "[648]\n",
      "[753  78]\n",
      "[283 689]\n",
      "[187 149 333 249]\n",
      "[716  99]\n",
      "Count Stock:  55\n",
      "time:  0.20503036900026927\n"
     ]
    },
    {
     "data": {
      "image/png": "[encoded data removed]",
      "text/plain": [
       "<Figure size 432x288 with 1 Axes>"
      ]
     },
     "metadata": {
      "needs_background": "light"
     },
     "output_type": "display_data"
    }
   ],
   "source": [
    "np.random.seed(200)\n",
    "sa4=SA(length=length4,reqs=reqs4,TI=20,TL=30,f=lambda x:0.84*x,minIter=100,maxEqCIter=3)\n",
    "sa4.run()"
   ]
  },
  {
   "cell_type": "code",
   "execution_count": 283,
   "id": "d5dfec4e",
   "metadata": {},
   "outputs": [
    {
     "name": "stdout",
     "output_type": "stream",
     "text": [
      "[280 609]\n",
      "[581 266 149]\n",
      "[306 333]\n",
      "[653]\n",
      "[987]\n",
      "[457 412]\n",
      "[549  18 186 224]\n",
      "[246 678]\n",
      "[788 106]\n",
      "[248 368 284]\n",
      "[805 149]\n",
      "[753]\n",
      "[365 148 402]\n",
      "[648  88]\n",
      "[506 371]\n",
      "[525 437]\n",
      "[914]\n",
      "[266 618 107]\n",
      "[171 753]\n",
      "[126 106 144 557]\n",
      "[251 116 106 232 211]\n",
      "[283 632]\n",
      "[507 312]\n",
      "[788]\n",
      "[249  70  88 517]\n",
      "[149 460 370]\n",
      "[672 187]\n",
      "[180 660]\n",
      "[170 592  46 117]\n",
      "[662  78 115 118]\n",
      "[ 60 230 627]\n",
      "[933  61]\n",
      "[518  86  53 337]\n",
      "[125 356 286 218]\n",
      "[106 315  43  75 145 278]\n",
      "[555 346]\n",
      "[354  45 295 119 125]\n",
      "[967]\n",
      "[ 71 409 123 286]\n",
      "[716  92  23 135]\n",
      "[264 686]\n",
      "[ 99 268 495]\n",
      "[868]\n",
      "[181 515 241]\n",
      "[441 405]\n",
      "[557 424]\n",
      "[532 312]\n",
      "[557  33  69  84 109]\n",
      "[301 689]\n",
      "[988]\n",
      "[501 292  79]\n",
      "[463 414  92]\n",
      "[544  80 351]\n",
      "Count Stock:  53\n",
      "time:  13.38638557899958\n"
     ]
    },
    {
     "data": {
      "image/png": "[encoded data removed]",
      "text/plain": [
       "<Figure size 432x288 with 1 Axes>"
      ]
     },
     "metadata": {
      "needs_background": "light"
     },
     "output_type": "display_data"
    }
   ],
   "source": [
    "np.random.seed(200)\n",
    "sa4=SA(length=length4,reqs=reqs4,TI=20,TL=3000,f=lambda x:0.9*x,minIter=50,maxEqCIter=3)\n",
    "sa4.run()"
   ]
  },
  {
   "cell_type": "code",
   "execution_count": 298,
   "id": "fd906957",
   "metadata": {},
   "outputs": [
    {
     "name": "stdout",
     "output_type": "stream",
     "text": [
      "[ 60 515 412]\n",
      "[351 123 501]\n",
      "[ 78 618 280]\n",
      "[753 106]\n",
      "[557 251]\n",
      "[672]\n",
      "[988]\n",
      "[106 532]\n",
      "[549 211 232]\n",
      "[125 653 107]\n",
      "[224 125 284  45 278]\n",
      "[264 495  18]\n",
      "[315 592]\n",
      "[180 117  79 368  33]\n",
      "[506 106  70 283]\n",
      "[181 660]\n",
      "[544 405]\n",
      "[933]\n",
      "[ 99 686 170]\n",
      "[788 119  88]\n",
      "[116 581]\n",
      "[518 149 333]\n",
      "[402  75 148 365]\n",
      "[126 609 115 109]\n",
      "[149 805]\n",
      "[627 371]\n",
      "[868 118]\n",
      "[525  61 312]\n",
      "[753 106]\n",
      "[441  71 312]\n",
      "[356 557]\n",
      "[171 678  23  46]\n",
      "[ 92  92 662]\n",
      "[230 557]\n",
      "[354 144]\n",
      "[632 295  69]\n",
      "[555 187]\n",
      "[463 249 266]\n",
      "[241 507]\n",
      "[409 437]\n",
      "[306  43 648]\n",
      "[716]\n",
      "[517  84 268]\n",
      "[346 286 286]\n",
      "[ 86 266 246 248 135]\n",
      "[914]\n",
      "[967]\n",
      "[414 457]\n",
      "[689 292]\n",
      "[788 149]\n",
      "[460 301 186]\n",
      "[337 370 145]\n",
      "[424 218  80  53  88]\n",
      "[987]\n",
      "Count Stock:  54\n",
      "time:  2.0622941749998063\n"
     ]
    },
    {
     "data": {
      "image/png": "[encoded data removed]",
      "text/plain": [
       "<Figure size 432x288 with 1 Axes>"
      ]
     },
     "metadata": {
      "needs_background": "light"
     },
     "output_type": "display_data"
    }
   ],
   "source": [
    "np.random.seed(200)\n",
    "sa4=SA(length=length4,reqs=reqs4,TI=20,TL=300,f=lambda x:0.86*x,minIter=100,maxEqCIter=3)\n",
    "sa4.run()"
   ]
  },
  {
   "cell_type": "code",
   "execution_count": null,
   "id": "de6af842",
   "metadata": {},
   "outputs": [],
   "source": []
  }
 ],
 "metadata": {
  "kernelspec": {
   "display_name": "Python 3 (ipykernel)",
   "language": "python",
   "name": "python3"
  },
  "language_info": {
   "codemirror_mode": {
    "name": "ipython",
    "version": 3
   },
   "file_extension": ".py",
   "mimetype": "text/x-python",
   "name": "python",
   "nbconvert_exporter": "python",
   "pygments_lexer": "ipython3",
   "version": "3.8.10"
  }
 },
 "nbformat": 4,
 "nbformat_minor": 5
}
